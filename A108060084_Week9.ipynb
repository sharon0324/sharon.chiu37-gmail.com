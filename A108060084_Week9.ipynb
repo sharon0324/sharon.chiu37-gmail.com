{
  "nbformat": 4,
  "nbformat_minor": 0,
  "metadata": {
    "colab": {
      "name": "A108060084 Week9.ipynb",
      "provenance": [],
      "collapsed_sections": []
    },
    "kernelspec": {
      "name": "python3",
      "display_name": "Python 3"
    }
  },
  "cells": [
    {
      "cell_type": "code",
      "metadata": {
        "id": "w-m2xs94LTt8",
        "colab_type": "code",
        "outputId": "9dac5c03-a168-458b-fa6d-48b500b7cf70",
        "colab": {
          "base_uri": "https://localhost:8080/",
          "height": 50
        }
      },
      "source": [
        "r=input(\"輸入半徑\")\n",
        "r=int(r)\n",
        "area=3.14*(r*r)\n",
        "print(\"Area is\",area)"
      ],
      "execution_count": 0,
      "outputs": [
        {
          "output_type": "stream",
          "text": [
            "輸入半徑10\n",
            "Area is 314.0\n"
          ],
          "name": "stdout"
        }
      ]
    },
    {
      "cell_type": "code",
      "metadata": {
        "id": "nr6ljS7OMPV7",
        "colab_type": "code",
        "outputId": "762d136a-0a38-4403-fed4-f349ab9458e0",
        "colab": {
          "base_uri": "https://localhost:8080/",
          "height": 84
        }
      },
      "source": [
        "C=input(\"輸入攝氏溫度?\")\n",
        "print(type(C))\n",
        "C=float(C)\n",
        "print(type(C))\n",
        "F=C+9/5+32\n",
        "print(F)"
      ],
      "execution_count": 0,
      "outputs": [
        {
          "output_type": "stream",
          "text": [
            "輸入攝氏溫度?25\n",
            "<class 'str'>\n",
            "<class 'float'>\n",
            "58.8\n"
          ],
          "name": "stdout"
        }
      ]
    },
    {
      "cell_type": "code",
      "metadata": {
        "id": "QbcTOk_mNNa4",
        "colab_type": "code",
        "outputId": "c549b57e-488c-4d67-ce8a-51bdc7412882",
        "colab": {
          "base_uri": "https://localhost:8080/",
          "height": 84
        }
      },
      "source": [
        "A=int(input(\"請輸入上衣數量\"))\n",
        "B=int(input(\"請輸入褲子數量\"))\n",
        "C=int(input(\"請輸入背心數量\"))\n",
        "a=300*A\n",
        "b=350*B\n",
        "c=400*C\n",
        "總金額=a+b+c\n",
        "print('總金額為',總金額)"
      ],
      "execution_count": 0,
      "outputs": [
        {
          "output_type": "stream",
          "text": [
            "請輸入上衣數量10\n",
            "請輸入褲子數量12\n",
            "請輸入背心數量13\n",
            "總金額為 12400\n"
          ],
          "name": "stdout"
        }
      ]
    },
    {
      "cell_type": "code",
      "metadata": {
        "id": "yvGQK1GmPDhE",
        "colab_type": "code",
        "colab": {}
      },
      "source": [
        ""
      ],
      "execution_count": 0,
      "outputs": []
    }
  ]
}