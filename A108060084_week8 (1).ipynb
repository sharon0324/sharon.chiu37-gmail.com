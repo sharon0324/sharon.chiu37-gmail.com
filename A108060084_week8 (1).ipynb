{
  "nbformat": 4,
  "nbformat_minor": 0,
  "metadata": {
    "colab": {
      "name": "A108060084 week8.ipynb",
      "provenance": [],
      "collapsed_sections": []
    },
    "kernelspec": {
      "name": "python3",
      "display_name": "Python 3"
    }
  },
  "cells": [
    {
      "cell_type": "code",
      "metadata": {
        "id": "jyEdyqRbFDvI",
        "colab_type": "code",
        "outputId": "e22e9a95-2009-48ec-ee24-c3d7db15f9e0",
        "colab": {
          "base_uri": "https://localhost:8080/",
          "height": 118
        }
      },
      "source": [
        "hours=input(\"Enter movie time hours:\")\n",
        "minutes=input(\"Enter movie time minutes:\")\n",
        "\n",
        "hours=int(hours)\n",
        "minutes=int(minutes)\n",
        "\n",
        "length=hours*60+minutes\n",
        "print(hours,\"Hours\",\"Minutes\",\"movie lenght is\",length,\"minutes\")\n",
        "\n",
        "hours1=length//60\n",
        "print(hours1)\n",
        "\n",
        "minutes1=length%60\n",
        "print(minutes1)\n",
        "\n",
        "print(length,\"Minutes equals\",hours1,\"Hours\",minutes1,\"Minutes\")"
      ],
      "execution_count": 0,
      "outputs": [
        {
          "output_type": "stream",
          "text": [
            "Enter movie time hours:3\n",
            "Enter movie time minutes:17\n",
            "3 Hours Minutes movie lenght is 197 minutes\n",
            "3\n",
            "17\n",
            "197 Minutes equals 3 Hours 17 Minutes\n"
          ],
          "name": "stdout"
        }
      ]
    },
    {
      "cell_type": "code",
      "metadata": {
        "id": "vmy2VgKUZjo-",
        "colab_type": "code",
        "colab": {}
      },
      "source": [
        ""
      ],
      "execution_count": 0,
      "outputs": []
    },
    {
      "cell_type": "markdown",
      "metadata": {
        "id": "1D8vSHSDLP1h",
        "colab_type": "text"
      },
      "source": [
        ""
      ]
    }
  ]
}