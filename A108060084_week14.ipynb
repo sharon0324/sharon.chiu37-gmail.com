{
  "nbformat": 4,
  "nbformat_minor": 0,
  "metadata": {
    "colab": {
      "name": "A108060084 week14",
      "provenance": []
    },
    "kernelspec": {
      "name": "python3",
      "display_name": "Python 3"
    }
  },
  "cells": [
    {
      "cell_type": "code",
      "metadata": {
        "id": "n9O2nryLn6tV",
        "colab_type": "code",
        "colab": {
          "base_uri": "https://localhost:8080/",
          "height": 84
        },
        "outputId": "9994550a-1c06-4da1-ec11-d1acd930cd55"
      },
      "source": [
        "#BMI計算\n",
        "\n",
        "## 輸入體重和身高資訊input\n",
        "weight = float(input(\"Enter Your Weight(KG)? \"))\n",
        "height = float(input(\"Enter Your Height(M)? \"))\n",
        "\n",
        "## 計算BMI指數process\n",
        "bmi = weight / (height* height)\n",
        "\n",
        "## 印出BMI output\n",
        "print(\"BMI指數為\",bmi)\n",
        "\n",
        "## 根據BMI指數 印出肥胖程度分類 process + output + if ellif else\n",
        "if bmi < 18 :\n",
        "    print(\"underweight\")\n",
        "elif bmi <24:\n",
        "    print(\"normal\")\n",
        "elif bmi <27:\n",
        "    print(\"Orverweight\")\n",
        "else:\n",
        "    print(\"obesity\")       "
      ],
      "execution_count": 2,
      "outputs": [
        {
          "output_type": "stream",
          "text": [
            "Enter Your Weight(KG)? 55\n",
            "Enter Your Height(M)? 1.6\n",
            "BMI指數為 21.484374999999996\n",
            "normal\n"
          ],
          "name": "stdout"
        }
      ]
    }
  ]
}