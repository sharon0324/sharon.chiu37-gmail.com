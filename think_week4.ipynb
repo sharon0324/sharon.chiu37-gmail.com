{
  "nbformat": 4,
  "nbformat_minor": 0,
  "metadata": {
    "colab": {
      "name": "think week4",
      "provenance": [],
      "authorship_tag": "ABX9TyPe86UX8jJ209/3jqkqMWLp",
      "include_colab_link": true
    },
    "kernelspec": {
      "name": "python3",
      "display_name": "Python 3"
    }
  },
  "cells": [
    {
      "cell_type": "markdown",
      "metadata": {
        "id": "view-in-github",
        "colab_type": "text"
      },
      "source": [
        "<a href=\"https://colab.research.google.com/github/sharon0324/sharon.chiu37-gmail.com/blob/master/think_week4.ipynb\" target=\"_parent\"><img src=\"https://colab.research.google.com/assets/colab-badge.svg\" alt=\"Open In Colab\"/></a>"
      ]
    },
    {
      "cell_type": "code",
      "metadata": {
        "id": "Kdmgp9pCMJDw",
        "colab_type": "code",
        "colab": {}
      },
      "source": [
        "print(\"邱靖軒\")"
      ],
      "execution_count": 0,
      "outputs": []
    },
    {
      "cell_type": "code",
      "metadata": {
        "id": "HNJ0N3NENzoI",
        "colab_type": "code",
        "outputId": "3c6d8c87-e5ea-439d-c195-7504470de169",
        "colab": {
          "base_uri": "https://localhost:8080/",
          "height": 50
        }
      },
      "source": [
        "name=\"邱靖軒\"\n",
        "print(type(name))\n",
        "print(\"我的名字是\",name)\n",
        "        "
      ],
      "execution_count": 26,
      "outputs": [
        {
          "output_type": "stream",
          "text": [
            "<class 'str'>\n",
            "我的名字是 邱靖軒\n"
          ],
          "name": "stdout"
        }
      ]
    },
    {
      "cell_type": "code",
      "metadata": {
        "id": "yEBkS3I0PL9l",
        "colab_type": "code",
        "colab": {}
      },
      "source": [
        "name=input(\"請輸入你的名字\")\n",
        "print(\"名字為\",name)"
      ],
      "execution_count": 0,
      "outputs": []
    },
    {
      "cell_type": "code",
      "metadata": {
        "id": "qmr1u-r-Vg2F",
        "colab_type": "code",
        "outputId": "f1df5a0e-94ea-431a-b1f8-82c174c5fc42",
        "colab": {
          "base_uri": "https://localhost:8080/",
          "height": 34
        }
      },
      "source": [
        "print(19)"
      ],
      "execution_count": 0,
      "outputs": [
        {
          "output_type": "stream",
          "text": [
            "19\n"
          ],
          "name": "stdout"
        }
      ]
    },
    {
      "cell_type": "code",
      "metadata": {
        "id": "CQu84qCXVvnr",
        "colab_type": "code",
        "colab": {}
      },
      "source": [
        "age=19\n",
        "print(\"我的年紀是\",age,\"歲\")"
      ],
      "execution_count": 0,
      "outputs": []
    },
    {
      "cell_type": "code",
      "metadata": {
        "id": "kB2nGL2xWIFG",
        "colab_type": "code",
        "outputId": "33dbd912-13bd-40db-da82-cec2afe3f470",
        "colab": {
          "base_uri": "https://localhost:8080/",
          "height": 50
        }
      },
      "source": [
        "age=input(\"請輸入你的年紀\")\n",
        "print(\"年紀是\",age,\"歲\")"
      ],
      "execution_count": 0,
      "outputs": [
        {
          "output_type": "stream",
          "text": [
            "請輸入你的年紀19\n",
            "年紀是 19 歲\n"
          ],
          "name": "stdout"
        }
      ]
    },
    {
      "cell_type": "code",
      "metadata": {
        "id": "cUBNgi-0W3C7",
        "colab_type": "code",
        "outputId": "8bbb9932-8a20-460e-ae6a-6ac621f43940",
        "colab": {
          "base_uri": "https://localhost:8080/",
          "height": 34
        }
      },
      "source": [
        "print(55)"
      ],
      "execution_count": 0,
      "outputs": [
        {
          "output_type": "stream",
          "text": [
            "55\n"
          ],
          "name": "stdout"
        }
      ]
    },
    {
      "cell_type": "code",
      "metadata": {
        "id": "ZqtG2yRkXCew",
        "colab_type": "code",
        "outputId": "4acdefef-ce52-490a-f641-91952c7db728",
        "colab": {
          "base_uri": "https://localhost:8080/",
          "height": 34
        }
      },
      "source": [
        "weight=55\n",
        "print(\"我的體重是\",weight,\"公斤\")"
      ],
      "execution_count": 0,
      "outputs": [
        {
          "output_type": "stream",
          "text": [
            "我的體重是 55 公斤\n"
          ],
          "name": "stdout"
        }
      ]
    },
    {
      "cell_type": "code",
      "metadata": {
        "id": "m8kh2g0NXY61",
        "colab_type": "code",
        "outputId": "a4c681e1-f7cd-403c-98d3-c2be79bc4f3d",
        "colab": {
          "base_uri": "https://localhost:8080/",
          "height": 50
        }
      },
      "source": [
        "weight=input(\"請輸入你的體重\")\n",
        "print(\"體重為\",weight,\"公斤\")"
      ],
      "execution_count": 0,
      "outputs": [
        {
          "output_type": "stream",
          "text": [
            "請輸入你的體重55\n",
            "體重為 55 公斤\n"
          ],
          "name": "stdout"
        }
      ]
    },
    {
      "cell_type": "code",
      "metadata": {
        "id": "5Wo0ZDegX-14",
        "colab_type": "code",
        "colab": {}
      },
      "source": [
        ""
      ],
      "execution_count": 0,
      "outputs": []
    }
  ]
}