{
  "nbformat": 4,
  "nbformat_minor": 0,
  "metadata": {
    "colab": {
      "name": "A108060084 week13",
      "provenance": []
    },
    "kernelspec": {
      "name": "python3",
      "display_name": "Python 3"
    }
  },
  "cells": [
    {
      "cell_type": "code",
      "metadata": {
        "id": "H8blX3diRfDV",
        "colab_type": "code",
        "colab": {
          "base_uri": "https://localhost:8080/",
          "height": 50
        },
        "outputId": "c60d1b87-acb1-40bb-cd99-03d1b8bbdfb2"
      },
      "source": [
        "#單向選擇\n",
        "score = int(input('請輸入一個成績?'))\n",
        "if score >=80:\n",
        "    print('非常棒')\n",
        "if 80 > score >= 60:\n",
        "    print('還不錯')\n",
        "if score < 60:\n",
        "    print('再加油')"
      ],
      "execution_count": 5,
      "outputs": [
        {
          "output_type": "stream",
          "text": [
            "請輸入一個成績?79\n",
            "還不錯\n"
          ],
          "name": "stdout"
        }
      ]
    },
    {
      "cell_type": "code",
      "metadata": {
        "id": "7pvfRq5xUAdZ",
        "colab_type": "code",
        "colab": {
          "base_uri": "https://localhost:8080/",
          "height": 50
        },
        "outputId": "3c5c2c24-d44c-4c90-cb91-2539685fdcd0"
      },
      "source": [
        "#多項選擇\n",
        "score = int(input('請輸入一個成績?'))\n",
        "if score >=80:\n",
        "    print('非常棒')\n",
        "elif score >=60:\n",
        "    print('還不錯')\n",
        "else:\n",
        "    print('再加油')\n",
        "            "
      ],
      "execution_count": 6,
      "outputs": [
        {
          "output_type": "stream",
          "text": [
            "請輸入一個成績?43\n",
            "再加油\n"
          ],
          "name": "stdout"
        }
      ]
    },
    {
      "cell_type": "code",
      "metadata": {
        "id": "_JqnJlUVV57p",
        "colab_type": "code",
        "colab": {
          "base_uri": "https://localhost:8080/",
          "height": 50
        },
        "outputId": "03d434c7-523e-4e72-c3b0-eea9b432e3c2"
      },
      "source": [
        "#雙向選擇\n",
        "score = int(input('請輸入一個成績?'))\n",
        "if score >= 80:\n",
        "    print('非常棒')\n",
        "else:\n",
        "    if score >= 60:\n",
        "        print('還不錯')\n",
        "    else:\n",
        "        print('再加油')\n",
        "        "
      ],
      "execution_count": 7,
      "outputs": [
        {
          "output_type": "stream",
          "text": [
            "請輸入一個成績?66\n",
            "還不錯\n"
          ],
          "name": "stdout"
        }
      ]
    }
  ]
}