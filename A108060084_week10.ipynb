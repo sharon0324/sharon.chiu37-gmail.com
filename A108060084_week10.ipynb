{
  "nbformat": 4,
  "nbformat_minor": 0,
  "metadata": {
    "colab": {
      "name": "A108060084 week10.ipynb",
      "provenance": []
    },
    "kernelspec": {
      "name": "python3",
      "display_name": "Python 3"
    }
  },
  "cells": [
    {
      "cell_type": "code",
      "metadata": {
        "id": "kx74UtpGw1m-",
        "colab_type": "code",
        "colab": {
          "base_uri": "https://localhost:8080/",
          "height": 50
        },
        "outputId": "8ae0d678-44a7-4ec7-be42-f07160fb68b1"
      },
      "source": [
        "h=(int(input(\"請輸入購買數量\")))\n",
        "一打=(h//12)\n",
        "未足一打=(h%12)\n",
        "總金額=(一打*200+未足一打*20)\n",
        "print(\"購買總金額為\",總金額)"
      ],
      "execution_count": 4,
      "outputs": [
        {
          "output_type": "stream",
          "text": [
            "請輸入購買數量20\n",
            "購買總金額為 360\n"
          ],
          "name": "stdout"
        }
      ]
    },
    {
      "cell_type": "code",
      "metadata": {
        "id": "eS8voCI4Yvka",
        "colab_type": "code",
        "colab": {
          "base_uri": "https://localhost:8080/",
          "height": 101
        },
        "outputId": "9d319733-0657-4690-c2bc-b358ed6c8c84"
      },
      "source": [
        "第一次期中考成績=int(input(\"請輸入第一次期中考成績\"))\n",
        "第二次期中考成績=int(input(\"請輸入第二次期中考成績\"))\n",
        "期末考成績=int(input(\"請輸入期末考成績\"))\n",
        "加總=(第一次期中考成績+第二次期中考成績+期末考成績)\n",
        "平均=(第一次期中考成績+第二次期中考成績+期末考成績)//3\n",
        "print('分數加總為',加總)\n",
        "print('分數平均為',平均)"
      ],
      "execution_count": 5,
      "outputs": [
        {
          "output_type": "stream",
          "text": [
            "請輸入第一次期中考成績80\n",
            "請輸入第二次期中考成績75\n",
            "請輸入期末考成績84\n",
            "分數加總為 239\n",
            "分數平均為 79\n"
          ],
          "name": "stdout"
        }
      ]
    },
    {
      "cell_type": "code",
      "metadata": {
        "id": "WQtnmrhrZfHs",
        "colab_type": "code",
        "colab": {}
      },
      "source": [
        ""
      ],
      "execution_count": 0,
      "outputs": []
    },
    {
      "cell_type": "code",
      "metadata": {
        "id": "djWfjSy6ZmKE",
        "colab_type": "code",
        "colab": {}
      },
      "source": [
        ""
      ],
      "execution_count": 0,
      "outputs": []
    }
  ]
}